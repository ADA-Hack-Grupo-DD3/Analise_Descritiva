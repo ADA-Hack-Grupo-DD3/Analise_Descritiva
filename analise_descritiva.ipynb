{
 "cells": [
  {
   "cell_type": "markdown",
   "metadata": {},
   "source": [
    "# Análise descritiva dos dados tratados"
   ]
  },
  {
   "cell_type": "code",
   "execution_count": null,
   "metadata": {},
   "outputs": [],
   "source": []
  },
  {
   "cell_type": "markdown",
   "metadata": {},
   "source": [
    "## Importações das bibliotecas"
   ]
  },
  {
   "cell_type": "code",
   "execution_count": 3,
   "metadata": {},
   "outputs": [],
   "source": [
    "import pandas as pd\n",
    "import matplotlib.pyplot as plt\n",
    "import seaborn as sns"
   ]
  },
  {
   "cell_type": "markdown",
   "metadata": {},
   "source": [
    "## Funções"
   ]
  },
  {
   "cell_type": "markdown",
   "metadata": {},
   "source": [
    "### Ajustes de nomes das caterogias e colunas\n",
    "\n",
    "Ajustes para exibir os dados sem a falta de acentos e abreviações"
   ]
  },
  {
   "cell_type": "code",
   "execution_count": 4,
   "metadata": {},
   "outputs": [],
   "source": [
    "def ajustes_nomes(data):\n",
    "    \"\"\"Ajustes em variáveis para melhor exibição dos resultados\n",
    "    - A coluna 'Genero' foi trocado para 'Gênero' \n",
    "    - Os valores Fem e Masc foram trocados por Feminino e Masculino\n",
    "    - O valor Pós graduação foi trocado por Pós-graduação (correção ortográfica)\n",
    "\n",
    "    Args:\n",
    "        data (dataframe): a base de dados de funcionários\n",
    "\n",
    "    Returns:\n",
    "        data (dataframe): a base de dados de funcionários com os nomes melhorados\n",
    "    \"\"\"\n",
    "    data[\"Genero\"] = data[\"Genero\"].map({\"Fem\": \"Feminino\", \"Masc\": \"Masculino\"})\n",
    "    # Renomeando a coluna 'Genero' para 'Gênero'\n",
    "    data.rename(columns={\"Genero\": \"Gênero\"}, inplace=True)\n",
    "    data['Formação'] = data['Formação'].replace('Pós graduação', 'Pós-graduação')\n",
    "    \n",
    "    return data"
   ]
  },
  {
   "cell_type": "markdown",
   "metadata": {},
   "source": [
    "### Análise de Qualidade da base\n",
    "- Quantidade de registos\n",
    "- Categorias\n",
    "- Valores faltantes"
   ]
  },
  {
   "cell_type": "code",
   "execution_count": 5,
   "metadata": {},
   "outputs": [],
   "source": [
    "def analise_base(data):\n",
    "    \"\"\"\n",
    "    A função informa na tela informações sobre a qualidade dos dados\n",
    "    \n",
    "    Args:\n",
    "        data (dataframe): a base de dados de funcionários\n",
    "    \"\"\"\n",
    "    total_linhas = len(data)\n",
    "    total_linhas_com_nulos = data.isnull().any(axis=1).sum()\n",
    "\n",
    "    print(f'A Base de Dados disponível tem {total_linhas} registros.\\n')\n",
    "    print(f'Há {total_linhas_com_nulos} linhas com algum registro nulo.')\n",
    "    print('Distribuídos da seguinte forma:')\n",
    "\n",
    "    # Verificar valores ausentes\n",
    "    print(\"\\nValores ausentes no conjunto de dados:\")\n",
    "    print(data.isnull().sum())\n",
    "\n",
    "    # Estatísticas descritivas para as colunas numéricas\n",
    "    print(\"\\nEstatísticas descritivas para as colunas numéricas:\")\n",
    "    print(data[['Idade','Tempo de casa','Idade Ingresso']].describe().round(2))\n",
    "\n",
    "    print(\"Descrição das Variáveis Categóricas:\\n\")\n",
    "    lista_cateoricas = ['Gênero', 'Raça', 'Formação', 'Departamento', 'Senioridade']\n",
    "    for i in lista_cateoricas:\n",
    "        print(f\"Opções disponíveis de {i}:\\n{data[i].unique()}\\n\")"
   ]
  },
  {
   "cell_type": "markdown",
   "metadata": {},
   "source": [
    "### Elaboração de Gráficos\n",
    "\n",
    "As funções a seguir, fazem gráficos de barra com as proporções das variáveis qualitativas e as exportam como png"
   ]
  },
  {
   "cell_type": "code",
   "execution_count": 15,
   "metadata": {},
   "outputs": [],
   "source": [
    "def graf_barra(data, x, y, eixo):\n",
    "    \"\"\"\n",
    "    A função faz e estiliza um gráfico de barras\n",
    "\n",
    "    Args:\n",
    "        data (dataframe): a base de dados de funcionários\n",
    "        x (integer): tamanho da altura do gráfico\n",
    "        y (interger): valor da largura do gráfico\n",
    "        eixo (string): nome do eixo do dataframe data que será feito o gráfico\n",
    "\n",
    "    Returns:\n",
    "        plot (matplotlib.axes._subplots.AxesSubplot): variável que armazena o gráfico\n",
    "    \"\"\"\n",
    "    plt.ioff()  # Desativar a exibição automática de gráficos\n",
    "    plt.rcParams['axes.facecolor'] = 'AliceBlue'\n",
    "\n",
    "    # Calcular o limite máximo do eixo y\n",
    "    max_y = data[eixo].value_counts().max()\n",
    "    # Adicionar 10% ao limite máximo\n",
    "    ylim_max = max_y * 1.3\n",
    "    \n",
    "    # Criar figura e eixos\n",
    "    fig, ax = plt.subplots(figsize=(x, y))\n",
    "    \n",
    "    # Gráfico de barras para a variável 'eixo' com cor personalizada\n",
    "    plot = sns.countplot(data=data, x=eixo, color='DarkTurquoise', ax=ax)\n",
    "    ax.set_title(eixo, fontsize=18, fontweight='bold')\n",
    "    ax.set_xlabel(None)\n",
    "    ax.set_ylabel(None)\n",
    "    ax.yaxis.set_major_formatter(plt.FuncFormatter(lambda x, _: int(x)))\n",
    "    ax.tick_params(axis='x', rotation=0)\n",
    "    ax.spines['top'].set_visible(False)  # Remover a linha superior\n",
    "    ax.spines['right'].set_visible(False)  # Remover a linha direita\n",
    "    ax.spines['left'].set_visible(False)  # Remover a linha esquerda\n",
    "    ax.set_ylim(0, ylim_max)  # Definindo o limite do eixo y\n",
    "    ax.set_yticks([])  # Remover os números dos tiques do eixo y\n",
    "    ax.yaxis.grid(False)  # Remover os \"risquinhos\"\n",
    "\n",
    "    # Definir os tiques do eixo x e substituir espaços nos nomes das colunas por quebras de linha\n",
    "    ax.set_xticks(range(len(ax.get_xticklabels())))\n",
    "    ax.set_xticklabels([label.get_text().replace(' ', '\\n') for label in ax.get_xticklabels()])\n",
    "\n",
    "    for p in ax.patches:\n",
    "        ax.annotate(f'{int(p.get_height())}\\n{p.get_height() / len(data) * 100:.1f}%', (p.get_x() + p.get_width() / 2., p.get_height()),\n",
    "                    ha='center', va='center', fontsize=10, color='black', xytext=(0, 10),\n",
    "                    textcoords='offset points')\n",
    "    plt.tight_layout()\n",
    "    \n",
    "    #plt.ion()  # Restaurar a exibição automática de gráficos\n",
    "    return plot"
   ]
  },
  {
   "cell_type": "code",
   "execution_count": 7,
   "metadata": {},
   "outputs": [],
   "source": [
    "def export_plot(plot, file_path, format='png'):\n",
    "    \"\"\"\n",
    "    Exporta um gráfico matplotlib ou seaborn para um arquivo.\n",
    "    \n",
    "    Parâmetros:\n",
    "        - plot: O gráfico a ser exportado.\n",
    "        - file_path: O caminho do arquivo de destino.\n",
    "        - format: O formato do arquivo de destino (padrão: 'png').\n",
    "    \"\"\"\n",
    "    try:\n",
    "        plot.figure.savefig(file_path, format=format)\n",
    "        print(f\"Gráfico exportado com sucesso para {file_path}\")\n",
    "    except Exception as e:\n",
    "        print(f\"Erro ao exportar o gráfico: {e}\")"
   ]
  },
  {
   "cell_type": "code",
   "execution_count": 8,
   "metadata": {},
   "outputs": [],
   "source": [
    "def exportando_graficos(data):\n",
    "    \"\"\"\n",
    "    A função agrupa as exportações dos gráficos de:\n",
    "        - Gênero,\n",
    "        - Senioridade,\n",
    "        - Raça e \n",
    "        - Formação\n",
    "\n",
    "    Args:\n",
    "        data (dataframe): a base de dados de funcionários\n",
    "    \"\"\"\n",
    "    eixo = 'Gênero'\n",
    "    plot = graf_barra(data, 4,3, eixo)\n",
    "    formato = 'png'\n",
    "    caminho = f'Graph/Distribuição_{eixo}.{formato}'\n",
    "    export_plot(plot, caminho, formato)\n",
    "    \n",
    "    eixo = 'Senioridade'\n",
    "    plot = graf_barra(data, 5,3, eixo)\n",
    "    formato = 'png'\n",
    "    caminho = f'Graph/Distribuição_{eixo}.{formato}'\n",
    "    export_plot(plot, caminho, formato)\n",
    "    \n",
    "    eixo = 'Raça'\n",
    "    plot = graf_barra(data, 4,3, eixo)\n",
    "    formato = 'png'\n",
    "    caminho = f'Graph/Distribuição_{eixo}.{formato}'\n",
    "    export_plot(plot, caminho, formato)\n",
    "    \n",
    "    eixo = 'Formação'\n",
    "    plot = graf_barra(data, 5,3, eixo)\n",
    "    formato = 'png'\n",
    "    caminho = f'Graph/Distribuição_{eixo}.{formato}'\n",
    "    export_plot(plot, caminho, formato)\n",
    "    \n",
    "    eixo = 'Departamento'\n",
    "    plot = graf_barra(data, 10,3, eixo)\n",
    "    formato = 'png'\n",
    "    caminho = f'Graph/Distribuição_{eixo}.{formato}'\n",
    "    export_plot(plot, caminho, formato)"
   ]
  },
  {
   "cell_type": "markdown",
   "metadata": {},
   "source": [
    "# Main"
   ]
  },
  {
   "cell_type": "code",
   "execution_count": 16,
   "metadata": {},
   "outputs": [
    {
     "name": "stdout",
     "output_type": "stream",
     "text": [
      "Análise da qualidade do banco de dados\n",
      "A Base de Dados disponível tem 9879 registros.\n",
      "\n",
      "Há 225 linhas com algum registro nulo.\n",
      "Distribuídos da seguinte forma:\n",
      "\n",
      "Valores ausentes no conjunto de dados:\n",
      "id                  0\n",
      "Nome                0\n",
      "Gênero              0\n",
      "Idade               0\n",
      "Raça                0\n",
      "Formação           26\n",
      "Estado              0\n",
      "Tempo de casa     199\n",
      "Departamento        0\n",
      "Senioridade         0\n",
      "Idade Ingresso    199\n",
      "dtype: int64\n",
      "\n",
      "Estatísticas descritivas para as colunas numéricas:\n",
      "         Idade  Tempo de casa  Idade Ingresso\n",
      "count  9879.00        9680.00         9680.00\n",
      "mean     31.71           5.27           26.44\n",
      "std       8.01           2.68            8.05\n",
      "min      15.00           0.00           14.00\n",
      "25%      26.00           4.00           20.00\n",
      "50%      30.00           5.00           25.00\n",
      "75%      37.00           7.00           31.00\n",
      "max      74.00          17.00           69.00\n",
      "Descrição das Variáveis Categóricas:\n",
      "\n",
      "Opções disponíveis de Gênero:\n",
      "['Feminino' 'Masculino']\n",
      "\n",
      "Opções disponíveis de Raça:\n",
      "['pardo' 'preto' 'branco' 'indígena' 'amarelo']\n",
      "\n",
      "Opções disponíveis de Formação:\n",
      "['Ensino Médio' 'Ensino Superior' 'Pós-graduação' 'Mestrado' 'Doutorado'\n",
      " nan]\n",
      "\n",
      "Opções disponíveis de Departamento:\n",
      "['Compras' 'Contabilidade' 'Vendas' 'Administrativo' 'Recursos Humanos'\n",
      " 'Operações' 'Desenvolvimento de Produtos' 'Marketing' 'TI']\n",
      "\n",
      "Opções disponíveis de Senioridade:\n",
      "['Analista Pleno' 'Analista Júnior' 'Gerente' 'Analista Sênior'\n",
      " 'Estagiário' 'Diretor']\n",
      "\n",
      "Exportação dos gráficos\n",
      "Gráfico exportado com sucesso para Graph/Distribuição_Gênero.png\n",
      "Gráfico exportado com sucesso para Graph/Distribuição_Senioridade.png\n",
      "Gráfico exportado com sucesso para Graph/Distribuição_Raça.png\n",
      "Gráfico exportado com sucesso para Graph/Distribuição_Formação.png\n",
      "Gráfico exportado com sucesso para Graph/Distribuição_Departamento.png\n"
     ]
    }
   ],
   "source": [
    "# Carregar o conjunto de dados\n",
    "file_path = \"Data_Base\\\\Dados_filtrados\\\\base_dados_filtrados.csv\"\n",
    "data = pd.read_csv(file_path)\n",
    "\n",
    "data = ajustes_nomes(data)\n",
    "print(\"Análise da qualidade do banco de dados\")\n",
    "analise_base(data)\n",
    "\n",
    "print(\"Exportação dos gráficos\")\n",
    "exportando_graficos(data)"
   ]
  },
  {
   "cell_type": "markdown",
   "metadata": {},
   "source": [
    "# ideia de pirâmide etária"
   ]
  },
  {
   "cell_type": "code",
   "execution_count": 14,
   "metadata": {},
   "outputs": [
    {
     "data": {
      "image/png": "[encoded data removed]",
      "text/plain": [
       "<Figure size 1200x600 with 2 Axes>"
      ]
     },
     "metadata": {},
     "output_type": "display_data"
    }
   ],
   "source": [
    "# Dividir o DataFrame em dois grupos: homens e mulheres\n",
    "homens = data[data['Gênero'] == 'Masculino']\n",
    "mulheres = data[data['Gênero'] == 'Feminino']\n",
    "\n",
    "# Calcular a distribuição de idade para homens e mulheres\n",
    "idade_homens = homens['Idade'].value_counts().sort_index()\n",
    "idade_mulheres = mulheres['Idade'].value_counts().sort_index()\n",
    "\n",
    "# Inverter a distribuição de idade dos homens e mulheres para criar a pirâmide etária\n",
    "idade_homens = idade_homens[::-1]\n",
    "idade_mulheres = idade_mulheres[::-1]\n",
    "\n",
    "# Criar a pirâmide etária\n",
    "plt.figure(figsize=(12, 6))\n",
    "\n",
    "plt.subplot(1, 2, 1)\n",
    "plt.barh(idade_homens.index, idade_homens, color='skyblue')\n",
    "plt.title('Distribuição de Idade - Homens')\n",
    "plt.xlabel('Número de Funcionários')\n",
    "plt.ylabel('Idade')\n",
    "plt.gca().invert_xaxis()  # Espelhar o gráfico masculino\n",
    "\n",
    "plt.subplot(1, 2, 2)\n",
    "plt.barh(idade_mulheres.index, idade_mulheres, color='pink')\n",
    "plt.title('Distribuição de Idade - Mulheres')\n",
    "plt.xlabel('Número de Funcionárias')\n",
    "plt.ylabel('Idade')\n",
    "\n",
    "plt.tight_layout()\n",
    "plt.show()"
   ]
  }
 ],
 "metadata": {
  "kernelspec": {
   "display_name": "Python 3",
   "language": "python",
   "name": "python3"
  },
  "language_info": {
   "codemirror_mode": {
    "name": "ipython",
    "version": 3
   },
   "file_extension": ".py",
   "mimetype": "text/x-python",
   "name": "python",
   "nbconvert_exporter": "python",
   "pygments_lexer": "ipython3",
   "version": "3.11.9"
  }
 },
 "nbformat": 4,
 "nbformat_minor": 2
}
