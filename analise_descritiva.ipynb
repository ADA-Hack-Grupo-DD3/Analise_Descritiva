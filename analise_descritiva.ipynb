{
 "cells": [
  {
   "cell_type": "markdown",
   "metadata": {},
   "source": [
    "# Análise descritiva dos dados tratados"
   ]
  },
  {
   "cell_type": "markdown",
   "metadata": {},
   "source": [
    "O presente script está compostos por funções que auxiliam no agrupamento de funcionalidades para realizar a análise descritiva"
   ]
  },
  {
   "cell_type": "markdown",
   "metadata": {},
   "source": [
    "| O presente *script* foi feito por [Amanda Souza](https://www.linkedin.com/in/amanda-rs/) para o Ada Hack de 2024."
   ]
  },
  {
   "cell_type": "markdown",
   "metadata": {},
   "source": [
    "## Importações das bibliotecas\n",
    "\n",
    "Para a elaboração do *script* foi utilizado o Python 3.11.9"
   ]
  },
  {
   "cell_type": "code",
   "execution_count": 37,
   "metadata": {},
   "outputs": [],
   "source": [
    "import pandas as pd # para manipulação de dataframes\n",
    "import matplotlib.pyplot as plt # elaboração de gráficos\n",
    "import seaborn as sns # para elaboração de gráficos\n",
    "import geopandas as gpd # para utilização de dados geocalizados"
   ]
  },
  {
   "cell_type": "markdown",
   "metadata": {},
   "source": [
    "## Funções"
   ]
  },
  {
   "cell_type": "markdown",
   "metadata": {},
   "source": [
    "### Ajustes de nomes das caterogias e colunas\n",
    "\n",
    "Ajustes para exibir os dados sem a falta de acentos e abreviações"
   ]
  },
  {
   "cell_type": "code",
   "execution_count": 38,
   "metadata": {},
   "outputs": [],
   "source": [
    "def ajustes_nomes(data):\n",
    "    \"\"\"Ajustes em variáveis para melhor exibição dos resultados\n",
    "    - A coluna 'Genero' foi trocado para 'Gênero' \n",
    "    - Os valores Fem e Masc foram trocados por Feminino e Masculino\n",
    "    - O valor Pós graduação foi trocado por Pós-graduação (correção ortográfica)\n",
    "\n",
    "    Args:\n",
    "        data (dataframe): a base de dados de funcionários\n",
    "\n",
    "    Returns:\n",
    "        data (dataframe): a base de dados de funcionários com os nomes melhorados\n",
    "    \"\"\"\n",
    "    # Retirando abreviações nos gêneros\n",
    "    data[\"Genero\"] = data[\"Genero\"].map({\"Fem\": \"Feminino\", \"Masc\": \"Masculino\"})\n",
    "    # Renomeando a coluna 'Genero' para 'Gênero'\n",
    "    data.rename(columns={\"Genero\": \"Gênero\"}, inplace=True)\n",
    "    # correção ortográfica\n",
    "    data['Formação'] = data['Formação'].replace('Pós graduação', 'Pós-graduação')\n",
    "    \n",
    "    return data"
   ]
  },
  {
   "cell_type": "markdown",
   "metadata": {},
   "source": [
    "### Análise de Qualidade da base\n",
    "A função mostra na tela as seguintes informações:\n",
    "- Quantidade de registros\n",
    "- Categorias\n",
    "- Valores faltantes"
   ]
  },
  {
   "cell_type": "code",
   "execution_count": 52,
   "metadata": {},
   "outputs": [],
   "source": [
    "def analise_base(data):\n",
    "    \"\"\"\n",
    "    A função informa na tela informações sobre a qualidade dos dados\n",
    "    \n",
    "    Args:\n",
    "        data (dataframe): a base de dados de funcionários\n",
    "    \"\"\"\n",
    "    total_linhas = len(data) # contando a quantidade de regitros\n",
    "\n",
    "    print(f'A Base de Dados disponível tem {total_linhas} registros.\\n')\n",
    "\n",
    "    # Estatísticas descritivas para as colunas numéricas\n",
    "    print(\"\\nEstatísticas descritivas para as colunas numéricas:\")\n",
    "    print(data[['Idade','Tempo de casa','Idade Ingresso']].describe().round(2))\n",
    "\n",
    "    #informando na tela quais são os valores encontrados nas variáveis categóricas\n",
    "    print(\"\\nDescrição das Variáveis Categóricas:\\n\")\n",
    "    lista_cateoricas = ['Gênero', 'Raça', 'Formação', 'Departamento', 'Senioridade']\n",
    "    for i in lista_cateoricas:\n",
    "        print(f\"Opções disponíveis de {i}:\\n{data[i].unique()}\\n\")"
   ]
  },
  {
   "cell_type": "markdown",
   "metadata": {},
   "source": [
    "### Elaboração de Gráficos\n",
    "\n",
    "As funções a seguir, fazem gráficos de barra com as proporções das variáveis qualitativas e as exportam como png"
   ]
  },
  {
   "cell_type": "markdown",
   "metadata": {},
   "source": [
    "#### Construção do Gráfico"
   ]
  },
  {
   "cell_type": "code",
   "execution_count": 40,
   "metadata": {},
   "outputs": [],
   "source": [
    "def graf_barra(data, x, y, eixo):\n",
    "    \"\"\"\n",
    "    A função faz e estiliza um gráfico de barras\n",
    "\n",
    "    Args:\n",
    "        data (dataframe): a base de dados de funcionários\n",
    "        x (integer): tamanho da altura do gráfico\n",
    "        y (interger): valor da largura do gráfico\n",
    "        eixo (string): nome do eixo do dataframe data que será feito o gráfico\n",
    "\n",
    "    Returns:\n",
    "        plot (matplotlib.axes._subplots.AxesSubplot): variável que armazena o gráfico\n",
    "    \"\"\"\n",
    "    plt.ioff()  # Desativar a exibição automática de gráficos\n",
    "    plt.rcParams['axes.facecolor'] = 'AliceBlue' # cor do fundo\n",
    "\n",
    "    # Calcular o limite máximo do eixo y\n",
    "    max_y = data[eixo].value_counts().max()\n",
    "    # Adicionar 10% ao limite máximo\n",
    "    ylim_max = max_y * 1.3\n",
    "    \n",
    "    # Criar figura e eixos\n",
    "    fig, ax = plt.subplots(figsize=(x, y))\n",
    "    \n",
    "    # Gráfico de barras \n",
    "    plot = sns.countplot(data=data, x=eixo, color='DarkCyan', ax=ax)\n",
    "    ax.set_title(eixo, fontsize=18, fontweight='bold')\n",
    "    ax.set_xlabel(None) #retirando a exibição\n",
    "    ax.set_ylabel(None)\n",
    "    ax.tick_params(axis='x', rotation=0)\n",
    "    ax.spines['top'].set_visible(False)  # Remover a linha superior\n",
    "    ax.spines['right'].set_visible(False)  # Remover a linha direita\n",
    "    ax.spines['left'].set_visible(False)  # Remover a linha esquerda\n",
    "    ax.set_ylim(0, ylim_max)  # Definindo o limite do eixo y\n",
    "    ax.set_yticks([])  # Remover os números dos tiques do eixo y\n",
    "    ax.yaxis.grid(False)  # Remover os \"risquinhos\" do eixo\n",
    "\n",
    "    # Definir os tiques do eixo x e substituir espaços nos nomes das colunas por quebras de linha\n",
    "    ax.set_xticks(range(len(ax.get_xticklabels())))\n",
    "    ax.set_xticklabels([label.get_text().replace(' ', '\\n') for label in ax.get_xticklabels()])\n",
    "\n",
    "    # incluir anotações em cada barra com a quantidade e a porcentagem\n",
    "    for p in ax.patches:\n",
    "        ax.annotate(f'{int(p.get_height())}\\n{p.get_height() / len(data) * 100:.1f}%', (p.get_x() + p.get_width() / 2., p.get_height()),\n",
    "                    ha='center', va='center', fontsize=10, color='black', xytext=(0, 10),\n",
    "                    textcoords='offset points')\n",
    "    plt.tight_layout()\n",
    "    #plt.ion()  # Restaurar a exibição automática de gráficos\n",
    "    return plot"
   ]
  },
  {
   "cell_type": "markdown",
   "metadata": {},
   "source": [
    "#### Função de exportar arquivos"
   ]
  },
  {
   "cell_type": "code",
   "execution_count": 41,
   "metadata": {},
   "outputs": [],
   "source": [
    "def export_plot(plot, file_path, format='png'):\n",
    "    \"\"\"\n",
    "    Exporta um gráfico matplotlib ou seaborn para um arquivo.\n",
    "    \n",
    "    Parâmetros:\n",
    "        - plot: O gráfico a ser exportado.\n",
    "        - file_path: O caminho do arquivo de destino.\n",
    "        - format: O formato do arquivo de destino (padrão: 'png').\n",
    "    \"\"\"\n",
    "    try:\n",
    "        plot.figure.savefig(file_path, format=format)\n",
    "        print(f\"Gráfico exportado com sucesso para {file_path}\")\n",
    "    except Exception as e:\n",
    "        print(f\"Erro ao exportar o gráfico: {e}\")"
   ]
  },
  {
   "cell_type": "markdown",
   "metadata": {},
   "source": [
    "#### Função que constrói os gráficos e os exporta como imagem png"
   ]
  },
  {
   "cell_type": "code",
   "execution_count": 42,
   "metadata": {},
   "outputs": [],
   "source": [
    "def const_export_graficos(data):\n",
    "    \"\"\"\n",
    "    A função agrupa as construções e exportações dos gráficos de:\n",
    "        - Gênero,\n",
    "        - Senioridade,\n",
    "        - Raça,\n",
    "        - Formação e\n",
    "        - Departamento\n",
    "    Foram utilizados parâmetros diferentes de tamanho nos gráficos\n",
    "\n",
    "    Args:\n",
    "        data (dataframe): a base de dados de funcionários\n",
    "    \"\"\"\n",
    "    formato = 'png'\n",
    "    \n",
    "    eixo = 'Gênero'\n",
    "    plot = graf_barra(data, 4,3, eixo)\n",
    "    caminho = f'Graph/Distribuição_{eixo}.{formato}'\n",
    "    export_plot(plot, caminho, formato)\n",
    "    \n",
    "    eixo = 'Senioridade'\n",
    "    plot = graf_barra(data, 5,3, eixo)\n",
    "    caminho = f'Graph/Distribuição_{eixo}.{formato}'\n",
    "    export_plot(plot, caminho, formato)\n",
    "    \n",
    "    eixo = 'Raça'\n",
    "    plot = graf_barra(data, 4,3, eixo)\n",
    "    caminho = f'Graph/Distribuição_{eixo}.{formato}'\n",
    "    export_plot(plot, caminho, formato)\n",
    "    \n",
    "    eixo = 'Formação'\n",
    "    plot = graf_barra(data, 5,3, eixo)\n",
    "    caminho = f'Graph/Distribuição_{eixo}.{formato}'\n",
    "    export_plot(plot, caminho, formato)\n",
    "    \n",
    "    eixo = 'Departamento'\n",
    "    plot = graf_barra(data, 10,3, eixo)\n",
    "    caminho = f'Graph/Distribuição_{eixo}.{formato}'\n",
    "    export_plot(plot, caminho, formato)"
   ]
  },
  {
   "cell_type": "markdown",
   "metadata": {},
   "source": [
    "### Mapa"
   ]
  },
  {
   "cell_type": "code",
   "execution_count": 43,
   "metadata": {},
   "outputs": [],
   "source": [
    "def mapa_funcionarios(data):\n",
    "    \"\"\"\n",
    "    Constroi o mapa da distribuição de funcionários por estados\n",
    "    - Utiliza o shapefile dos estados brasileiros (IBGE)\n",
    "    \n",
    "    Args:\n",
    "        data (dataframe): a base de dados de funcionários\n",
    "\n",
    "    Returns:\n",
    "        plot (matplotlib.axes._axes.Axes): variável que armazena o mapa\n",
    "    \"\"\"\n",
    "    # O Shapely é para manipulação e análise de objetos geométricos no espaço bidimensional.\n",
    "    # será utilizado para mudar a posição de algumas anotações\n",
    "    from shapely.geometry import Point\n",
    "    #importando o shapefile do brasil\n",
    "    infos_ufs = gpd.read_file(\"Data_Base\\\\BR_UF_2022\\\\BR_UF_2022.shp\")\n",
    "    dict_funcionario_por_estado = (data['Estado'].value_counts()).to_dict()\n",
    "    #incluindo uma coluna de quantidade de participantes por sigla no df infos_ufs\n",
    "    infos_ufs['QT_UF_FUNC'] = infos_ufs['NM_UF'].map(dict_funcionario_por_estado)\n",
    "    \n",
    "    # mapa\n",
    "    #iniciando a figura\n",
    "    fig, ax = plt.subplots(1, figsize = (7,5))\n",
    "    # Ajustar a paleta de cores\n",
    "    cmap = sns.light_palette(\"DarkCyan\", as_cmap=True)\n",
    "\n",
    "    # Plotar os dados\n",
    "    plot = infos_ufs.plot(column='QT_UF_FUNC',\n",
    "                ax=ax,\n",
    "                cmap=cmap,\n",
    "                linewidth=0.8,\n",
    "                legend_kwds={'label': \"Quantidade de Funcionários\"},  # Rótulo da legenda\n",
    "                edgecolor='black')\n",
    "\n",
    "    # Adicionar título\n",
    "    plt.title(\"Funcionários por Unidade Federativa\", fontsize=18, fontweight='bold')\n",
    "\n",
    "    # Função para ajustar a posição dos textos para evitar sobreposição\n",
    "    def adjust_text_position(point, existing_points, min_distance):\n",
    "        adjusted_point = point\n",
    "        for existing_point in existing_points:\n",
    "            while adjusted_point.distance(existing_point) < min_distance:\n",
    "                adjusted_point = Point(adjusted_point.x + 100, adjusted_point.y + 100)  # Ajuste de posição\n",
    "        return adjusted_point\n",
    "\n",
    "    # Lista para armazenar os centroides dos polígonos já utilizados\n",
    "    used_points = []\n",
    "\n",
    "    # Adicionar rótulos aos estados com a quantidade de funcionários\n",
    "    min_distance = 1  # Definir uma distância mínima para evitar sobreposição\n",
    "    for index, row in infos_ufs.iterrows():\n",
    "        centroid = row.geometry.centroid\n",
    "        adjusted_centroid = adjust_text_position(centroid, used_points, min_distance)\n",
    "        if row.SIGLA_UF in ['PB', 'AL']: # afastando a anotação da Paraíba e Alagoas mais para a direita\n",
    "            adjusted_centroid = Point(adjusted_centroid.x + 2, adjusted_centroid.y)\n",
    "        if row.SIGLA_UF in ['GO', 'SE']: # movendo a anotação Goiás e Sergipe mais para baixo\n",
    "            adjusted_centroid = Point(adjusted_centroid.x, adjusted_centroid.y - 0.8)\n",
    "        if row.SIGLA_UF in ['RN']: # movendo a anotação do Rio Grande do Norte mais para cima\n",
    "            adjusted_centroid = Point(adjusted_centroid.x, adjusted_centroid.y + 0.8)\n",
    "        text = f\"{row.SIGLA_UF}\\n{row.QT_UF_FUNC}\"\n",
    "        ax.annotate(text=text, fontsize=7, fontweight='bold', xy=(adjusted_centroid.x, adjusted_centroid.y), ha='center', va='center', color=\"black\")\n",
    "        used_points.append(adjusted_centroid)\n",
    "\n",
    "    # Remover eixos\n",
    "    ax.axis('off')\n",
    "\n",
    "    # Adicionar bordas aos polígonos de linha contínua e cinza escura para não atrapalhar a leitura das anotações\n",
    "    for polygon in ax.collections:\n",
    "        polygon.set_linestyle('-')\n",
    "        polygon.set_edgecolor('darkgrey')\n",
    "    return plot"
   ]
  },
  {
   "cell_type": "markdown",
   "metadata": {},
   "source": [
    "#### Função que chama a função que contrói o mapa e faz a exportação"
   ]
  },
  {
   "cell_type": "code",
   "execution_count": 44,
   "metadata": {},
   "outputs": [],
   "source": [
    "def const_export_mapa(data):\n",
    "    \"\"\" A função constrou e exporta o mapa de funcionários\n",
    "\n",
    "    Args:\n",
    "        data (dataframe): a base de dados de funcionários\n",
    "    \"\"\"\n",
    "    \n",
    "    #construindo mapa\n",
    "    plot = mapa_funcionarios(data)\n",
    "    \n",
    "    formato = 'png'\n",
    "    caminho = f'Graph/Mapa.{formato}'\n",
    "    export_plot(plot, caminho, formato)"
   ]
  },
  {
   "cell_type": "markdown",
   "metadata": {},
   "source": [
    "#### Calculando a população por região geográfica"
   ]
  },
  {
   "cell_type": "code",
   "execution_count": 45,
   "metadata": {},
   "outputs": [],
   "source": [
    "def pop_por_regiao():\n",
    "    \"\"\" Imprime uma tabela listando as regiões brasileiras, \n",
    "    a quantidade da população e a proporção em relação ao Brasil\n",
    "    \"\"\"\n",
    "    # Carregar o conjunto de dados\n",
    "    file_path = \"Data_Base\\\\populacao_por_regiao.csv\"\n",
    "    data_pop_reg = pd.read_csv(file_path)\n",
    "\n",
    "    # Calcular a população total\n",
    "    populacao_total = data_pop_reg['População'].sum()\n",
    "\n",
    "    # Calcular a proporção da população de cada região em relação ao total das regiões\n",
    "    data_pop_reg['Proporção (%)'] = ((data_pop_reg['População'] / populacao_total) * 100).round(2)\n",
    "\n",
    "    # Ordenar o DataFrame final em ordem alfabética da coluna 'Região'\n",
    "    data_pop_reg = data_pop_reg.sort_values(by='Região')\n",
    "\n",
    "    # Exibir o DataFrame resultante\n",
    "    print('\\n Tamanho da população por região:')\n",
    "    print(data_pop_reg)"
   ]
  },
  {
   "cell_type": "markdown",
   "metadata": {},
   "source": [
    "#### Calculando a quantidade de funcionários por região"
   ]
  },
  {
   "cell_type": "code",
   "execution_count": 46,
   "metadata": {},
   "outputs": [],
   "source": [
    "def funcionario_por_regiao(data):\n",
    "    \"\"\"Imprime na tela uma tabela com a quantidade de funcionários por região\n",
    "        e sua proporção em relação ao total da população\n",
    "\n",
    "    Args:\n",
    "        data (dataframe): a base de dados de funcionários\n",
    "    \"\"\"\n",
    "    # Dicionário de mapeamento de estados para regiões\n",
    "    mapeamento_regioes = {\n",
    "        'Goiás': 'Centro-Oeste','Mato Grosso': 'Centro-Oeste','Mato Grosso do Sul': 'Centro-Oeste',\n",
    "        'Distrito Federal': 'Centro-Oeste','Alagoas': 'Nordeste','Bahia': 'Nordeste','Ceará': 'Nordeste',\n",
    "        'Maranhão': 'Nordeste','Paraíba': 'Nordeste','Pernambuco': 'Nordeste','Piauí': 'Nordeste',\n",
    "        'Rio Grande do Norte': 'Nordeste','Sergipe': 'Nordeste','Acre': 'Norte','Amapá': 'Norte',\n",
    "        'Amazonas': 'Norte','Pará': 'Norte','Rondônia': 'Norte','Roraima': 'Norte','Tocantins': 'Norte',\n",
    "        'Espírito Santo': 'Sudeste','Minas Gerais': 'Sudeste','Rio de Janeiro': 'Sudeste',\n",
    "        'São Paulo': 'Sudeste','Paraná': 'Sul','Rio Grande do Sul': 'Sul','Santa Catarina': 'Sul'\n",
    "    }\n",
    "\n",
    "    # Mapear os estados para as regiões correspondentes\n",
    "    data['Região'] = data['Estado'].map(mapeamento_regioes)\n",
    "\n",
    "    # Contar o número de funcionários em cada região\n",
    "    contagem_regiao = pd.DataFrame(data['Região'].value_counts()).reset_index()\n",
    "\n",
    "    # Calcular a proporção de funcionários em cada região\n",
    "    total_funcionarios = len(data)\n",
    "    contagem_regiao['Proporção (%)'] = (contagem_regiao['count']*100/total_funcionarios).round(2)# arredondando para duas casas\n",
    "    contagem_regiao.columns = ['Região', 'Funcionários', 'Proporção (%)']\n",
    "\n",
    "    # Ordenar o DataFrame final em ordem alfabética da coluna 'Região'\n",
    "    contagem_regiao = contagem_regiao.sort_values(by='Região')\n",
    "\n",
    "    # Exibir o DataFrame resultante\n",
    "    print('\\n Quantidade de funcionário por região:')\n",
    "    print(contagem_regiao)"
   ]
  },
  {
   "cell_type": "markdown",
   "metadata": {},
   "source": [
    "#### Calculando a distribuição das formações por raça"
   ]
  },
  {
   "cell_type": "code",
   "execution_count": 47,
   "metadata": {},
   "outputs": [],
   "source": [
    "def formacao_por_raca(data):\n",
    "    \"\"\"Imprime uma tabela que explicita a porcentagem da formação de cada raça\n",
    "\n",
    "    Args:\n",
    "        data (dataframe): a base de dados de funcionários\n",
    "    \"\"\"\n",
    "    # Calcular a contagem de pessoas para cada combinação de raça e formação\n",
    "    contagem = data.groupby(['Raça', 'Formação']).size().unstack()\n",
    "\n",
    "    # Normalizar as contagens para obter a proporção de pessoas em cada categoria de raça e formação\n",
    "    contagem_normalizada = (contagem.div(contagem.sum(axis=1), axis=0) * 100).round(1)\n",
    "    ordem_exibicao = ['Ensino Médio', 'Ensino Superior', 'Pós-graduação','Mestrado','Doutorado']\n",
    "    # Exibir a tabela com as porcentagens\n",
    "    print(contagem_normalizada[ordem_exibicao])"
   ]
  },
  {
   "cell_type": "markdown",
   "metadata": {},
   "source": [
    "# Main\n",
    "\n",
    "Parte principal do código, onde é informado a base de dados utilizadas e são realizadas as saídas"
   ]
  },
  {
   "cell_type": "markdown",
   "metadata": {},
   "source": [
    "## Carregando os dados de entrada"
   ]
  },
  {
   "cell_type": "code",
   "execution_count": 48,
   "metadata": {},
   "outputs": [],
   "source": [
    "# Carregar o conjunto de dados\n",
    "file_path = \"Data_Base\\\\Dados_filtrados\\\\dados_filtrados.csv\"\n",
    "data = pd.read_csv(file_path)"
   ]
  },
  {
   "cell_type": "markdown",
   "metadata": {},
   "source": [
    "## Ajustando os nomes para as saídas"
   ]
  },
  {
   "cell_type": "code",
   "execution_count": 49,
   "metadata": {},
   "outputs": [],
   "source": [
    "data = ajustes_nomes(data)"
   ]
  },
  {
   "cell_type": "markdown",
   "metadata": {},
   "source": [
    "## Análise da qualidade do banco"
   ]
  },
  {
   "cell_type": "code",
   "execution_count": 53,
   "metadata": {},
   "outputs": [
    {
     "name": "stdout",
     "output_type": "stream",
     "text": [
      "A Base de Dados disponível tem 9654 registros.\n",
      "\n",
      "\n",
      "Estatísticas descritivas para as colunas numéricas:\n",
      "         Idade  Tempo de casa  Idade Ingresso\n",
      "count  9654.00        9654.00         9654.00\n",
      "mean     31.72           5.27           26.45\n",
      "std       8.00           2.68            8.05\n",
      "min      16.00           0.00           14.00\n",
      "25%      26.00           4.00           20.00\n",
      "50%      30.00           5.00           25.00\n",
      "75%      37.00           7.00           31.00\n",
      "max      74.00          17.00           69.00\n",
      "\n",
      "Descrição das Variáveis Categóricas:\n",
      "\n",
      "Opções disponíveis de Gênero:\n",
      "['Feminino' 'Masculino']\n",
      "\n",
      "Opções disponíveis de Raça:\n",
      "['pardo' 'preto' 'branco' 'indígena' 'amarelo']\n",
      "\n",
      "Opções disponíveis de Formação:\n",
      "['Ensino Médio' 'Ensino Superior' 'Pós-graduação' 'Mestrado' 'Doutorado']\n",
      "\n",
      "Opções disponíveis de Departamento:\n",
      "['Compras' 'Contabilidade' 'Vendas' 'Administrativo' 'Recursos Humanos'\n",
      " 'Operações' 'Desenvolvimento de Produtos' 'Marketing' 'TI']\n",
      "\n",
      "Opções disponíveis de Senioridade:\n",
      "['Analista Pleno' 'Analista Júnior' 'Gerente' 'Analista Sênior'\n",
      " 'Estagiário' 'Diretor']\n",
      "\n"
     ]
    }
   ],
   "source": [
    "analise_base(data)"
   ]
  },
  {
   "cell_type": "markdown",
   "metadata": {},
   "source": [
    "## Mapeando a distribuição dos funcionários pelas regiões brasileiras:"
   ]
  },
  {
   "cell_type": "code",
   "execution_count": 54,
   "metadata": {},
   "outputs": [
    {
     "name": "stdout",
     "output_type": "stream",
     "text": [
      "\n",
      " Tamanho da população por região:\n",
      "         Região  População  Proporção (%)\n",
      "4  Centro-Oeste   16289538           8.02\n",
      "1      Nordeste   54658515          26.91\n",
      "0         Norte   17354884           8.55\n",
      "2       Sudeste   84840113          41.78\n",
      "3           Sul   29937706          14.74\n",
      "\n",
      " Quantidade de funcionário por região:\n",
      "         Região  Funcionários  Proporção (%)\n",
      "4  Centro-Oeste          1016          10.52\n",
      "1      Nordeste          2296          23.78\n",
      "3         Norte          1798          18.62\n",
      "0       Sudeste          2702          27.99\n",
      "2           Sul          1842          19.08\n"
     ]
    }
   ],
   "source": [
    "pop_por_regiao()\n",
    "funcionario_por_regiao(data)"
   ]
  },
  {
   "cell_type": "markdown",
   "metadata": {},
   "source": [
    "## Mapeando a distribuição da formação por raça"
   ]
  },
  {
   "cell_type": "code",
   "execution_count": 55,
   "metadata": {},
   "outputs": [
    {
     "name": "stdout",
     "output_type": "stream",
     "text": [
      "Formação  Ensino Médio  Ensino Superior  Pós-graduação  Mestrado  Doutorado\n",
      "Raça                                                                       \n",
      "amarelo            6.2             58.3            4.2      18.8       12.5\n",
      "branco             4.6             61.0           14.5      12.0        7.8\n",
      "indígena           4.2             75.0            8.3       8.3        4.2\n",
      "pardo              5.2             59.4           15.1      12.1        8.2\n",
      "preto              5.3             60.3           18.0       9.7        6.8\n"
     ]
    }
   ],
   "source": [
    "formacao_por_raca(data)"
   ]
  },
  {
   "cell_type": "markdown",
   "metadata": {},
   "source": [
    "## Exportando as saídas gráficas"
   ]
  },
  {
   "cell_type": "code",
   "execution_count": 56,
   "metadata": {},
   "outputs": [
    {
     "name": "stdout",
     "output_type": "stream",
     "text": [
      "Exportação dos gráficos\n",
      "Gráfico exportado com sucesso para Graph/Distribuição_Gênero.png\n",
      "Gráfico exportado com sucesso para Graph/Distribuição_Senioridade.png\n",
      "Gráfico exportado com sucesso para Graph/Distribuição_Raça.png\n",
      "Gráfico exportado com sucesso para Graph/Distribuição_Formação.png\n",
      "Gráfico exportado com sucesso para Graph/Distribuição_Departamento.png\n",
      "Exportação do mapa\n",
      "Gráfico exportado com sucesso para Graph/Mapa.png\n"
     ]
    }
   ],
   "source": [
    "print(\"Exportação dos gráficos\")\n",
    "const_export_graficos(data)\n",
    "\n",
    "print(\"Exportação do mapa\")\n",
    "const_export_mapa(data)"
   ]
  }
 ],
 "metadata": {
  "kernelspec": {
   "display_name": "Python 3",
   "language": "python",
   "name": "python3"
  },
  "language_info": {
   "codemirror_mode": {
    "name": "ipython",
    "version": 3
   },
   "file_extension": ".py",
   "mimetype": "text/x-python",
   "name": "python",
   "nbconvert_exporter": "python",
   "pygments_lexer": "ipython3",
   "version": "3.11.9"
  }
 },
 "nbformat": 4,
 "nbformat_minor": 2
}
